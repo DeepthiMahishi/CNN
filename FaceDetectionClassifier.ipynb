{
 "cells": [
  {
   "cell_type": "code",
   "execution_count": null,
   "metadata": {
    "colab": {
     "base_uri": "https://localhost:8080/"
    },
    "id": "WOP_FOlR0yek",
    "outputId": "1e0b5bda-1a44-4e3b-de69-43d7d39a89b0"
   },
   "outputs": [
    {
     "name": "stdout",
     "output_type": "stream",
     "text": [
      "Python 3.11.13\n"
     ]
    }
   ],
   "source": [
    "!python --version"
   ]
  },
  {
   "cell_type": "code",
   "execution_count": null,
   "metadata": {
    "colab": {
     "base_uri": "https://localhost:8080/"
    },
    "id": "UHau4OtU04dX",
    "outputId": "ce00f889-ead5-4f80-fff5-1ff6d5458aea"
   },
   "outputs": [
    {
     "name": "stdout",
     "output_type": "stream",
     "text": [
      "2.18.0\n"
     ]
    }
   ],
   "source": [
    "import tensorflow\n",
    "print(tensorflow.__version__)"
   ]
  },
  {
   "cell_type": "code",
   "execution_count": null,
   "metadata": {
    "id": "pHvFV8Lb-ccZ"
   },
   "outputs": [],
   "source": [
    "#https://keras.io/api/applications/\n",
    "\n",
    "from tensorflow import keras\n",
    "import numpy as np"
   ]
  },
  {
   "cell_type": "code",
   "execution_count": 1,
   "metadata": {
    "colab": {
     "base_uri": "https://localhost:8080/",
     "height": 90
    },
    "id": "mhr-lgudDBQr",
    "outputId": "26f9481d-af6e-4987-bfbc-977ce9d65c68"
   },
   "outputs": [
    {
     "data": {
      "text/html": [
       "\n",
       "     <input type=\"file\" id=\"files-289ed295-8fb6-480b-ace4-f5d9ee026745\" name=\"files[]\" multiple disabled\n",
       "        style=\"border:none\" />\n",
       "     <output id=\"result-289ed295-8fb6-480b-ace4-f5d9ee026745\">\n",
       "      Upload widget is only available when the cell has been executed in the\n",
       "      current browser session. Please rerun this cell to enable.\n",
       "      </output>\n",
       "      <script>// Copyright 2017 Google LLC\n",
       "//\n",
       "// Licensed under the Apache License, Version 2.0 (the \"License\");\n",
       "// you may not use this file except in compliance with the License.\n",
       "// You may obtain a copy of the License at\n",
       "//\n",
       "//      http://www.apache.org/licenses/LICENSE-2.0\n",
       "//\n",
       "// Unless required by applicable law or agreed to in writing, software\n",
       "// distributed under the License is distributed on an \"AS IS\" BASIS,\n",
       "// WITHOUT WARRANTIES OR CONDITIONS OF ANY KIND, either express or implied.\n",
       "// See the License for the specific language governing permissions and\n",
       "// limitations under the License.\n",
       "\n",
       "/**\n",
       " * @fileoverview Helpers for google.colab Python module.\n",
       " */\n",
       "(function(scope) {\n",
       "function span(text, styleAttributes = {}) {\n",
       "  const element = document.createElement('span');\n",
       "  element.textContent = text;\n",
       "  for (const key of Object.keys(styleAttributes)) {\n",
       "    element.style[key] = styleAttributes[key];\n",
       "  }\n",
       "  return element;\n",
       "}\n",
       "\n",
       "// Max number of bytes which will be uploaded at a time.\n",
       "const MAX_PAYLOAD_SIZE = 100 * 1024;\n",
       "\n",
       "function _uploadFiles(inputId, outputId) {\n",
       "  const steps = uploadFilesStep(inputId, outputId);\n",
       "  const outputElement = document.getElementById(outputId);\n",
       "  // Cache steps on the outputElement to make it available for the next call\n",
       "  // to uploadFilesContinue from Python.\n",
       "  outputElement.steps = steps;\n",
       "\n",
       "  return _uploadFilesContinue(outputId);\n",
       "}\n",
       "\n",
       "// This is roughly an async generator (not supported in the browser yet),\n",
       "// where there are multiple asynchronous steps and the Python side is going\n",
       "// to poll for completion of each step.\n",
       "// This uses a Promise to block the python side on completion of each step,\n",
       "// then passes the result of the previous step as the input to the next step.\n",
       "function _uploadFilesContinue(outputId) {\n",
       "  const outputElement = document.getElementById(outputId);\n",
       "  const steps = outputElement.steps;\n",
       "\n",
       "  const next = steps.next(outputElement.lastPromiseValue);\n",
       "  return Promise.resolve(next.value.promise).then((value) => {\n",
       "    // Cache the last promise value to make it available to the next\n",
       "    // step of the generator.\n",
       "    outputElement.lastPromiseValue = value;\n",
       "    return next.value.response;\n",
       "  });\n",
       "}\n",
       "\n",
       "/**\n",
       " * Generator function which is called between each async step of the upload\n",
       " * process.\n",
       " * @param {string} inputId Element ID of the input file picker element.\n",
       " * @param {string} outputId Element ID of the output display.\n",
       " * @return {!Iterable<!Object>} Iterable of next steps.\n",
       " */\n",
       "function* uploadFilesStep(inputId, outputId) {\n",
       "  const inputElement = document.getElementById(inputId);\n",
       "  inputElement.disabled = false;\n",
       "\n",
       "  const outputElement = document.getElementById(outputId);\n",
       "  outputElement.innerHTML = '';\n",
       "\n",
       "  const pickedPromise = new Promise((resolve) => {\n",
       "    inputElement.addEventListener('change', (e) => {\n",
       "      resolve(e.target.files);\n",
       "    });\n",
       "  });\n",
       "\n",
       "  const cancel = document.createElement('button');\n",
       "  inputElement.parentElement.appendChild(cancel);\n",
       "  cancel.textContent = 'Cancel upload';\n",
       "  const cancelPromise = new Promise((resolve) => {\n",
       "    cancel.onclick = () => {\n",
       "      resolve(null);\n",
       "    };\n",
       "  });\n",
       "\n",
       "  // Wait for the user to pick the files.\n",
       "  const files = yield {\n",
       "    promise: Promise.race([pickedPromise, cancelPromise]),\n",
       "    response: {\n",
       "      action: 'starting',\n",
       "    }\n",
       "  };\n",
       "\n",
       "  cancel.remove();\n",
       "\n",
       "  // Disable the input element since further picks are not allowed.\n",
       "  inputElement.disabled = true;\n",
       "\n",
       "  if (!files) {\n",
       "    return {\n",
       "      response: {\n",
       "        action: 'complete',\n",
       "      }\n",
       "    };\n",
       "  }\n",
       "\n",
       "  for (const file of files) {\n",
       "    const li = document.createElement('li');\n",
       "    li.append(span(file.name, {fontWeight: 'bold'}));\n",
       "    li.append(span(\n",
       "        `(${file.type || 'n/a'}) - ${file.size} bytes, ` +\n",
       "        `last modified: ${\n",
       "            file.lastModifiedDate ? file.lastModifiedDate.toLocaleDateString() :\n",
       "                                    'n/a'} - `));\n",
       "    const percent = span('0% done');\n",
       "    li.appendChild(percent);\n",
       "\n",
       "    outputElement.appendChild(li);\n",
       "\n",
       "    const fileDataPromise = new Promise((resolve) => {\n",
       "      const reader = new FileReader();\n",
       "      reader.onload = (e) => {\n",
       "        resolve(e.target.result);\n",
       "      };\n",
       "      reader.readAsArrayBuffer(file);\n",
       "    });\n",
       "    // Wait for the data to be ready.\n",
       "    let fileData = yield {\n",
       "      promise: fileDataPromise,\n",
       "      response: {\n",
       "        action: 'continue',\n",
       "      }\n",
       "    };\n",
       "\n",
       "    // Use a chunked sending to avoid message size limits. See b/62115660.\n",
       "    let position = 0;\n",
       "    do {\n",
       "      const length = Math.min(fileData.byteLength - position, MAX_PAYLOAD_SIZE);\n",
       "      const chunk = new Uint8Array(fileData, position, length);\n",
       "      position += length;\n",
       "\n",
       "      const base64 = btoa(String.fromCharCode.apply(null, chunk));\n",
       "      yield {\n",
       "        response: {\n",
       "          action: 'append',\n",
       "          file: file.name,\n",
       "          data: base64,\n",
       "        },\n",
       "      };\n",
       "\n",
       "      let percentDone = fileData.byteLength === 0 ?\n",
       "          100 :\n",
       "          Math.round((position / fileData.byteLength) * 100);\n",
       "      percent.textContent = `${percentDone}% done`;\n",
       "\n",
       "    } while (position < fileData.byteLength);\n",
       "  }\n",
       "\n",
       "  // All done.\n",
       "  yield {\n",
       "    response: {\n",
       "      action: 'complete',\n",
       "    }\n",
       "  };\n",
       "}\n",
       "\n",
       "scope.google = scope.google || {};\n",
       "scope.google.colab = scope.google.colab || {};\n",
       "scope.google.colab._files = {\n",
       "  _uploadFiles,\n",
       "  _uploadFilesContinue,\n",
       "};\n",
       "})(self);\n",
       "</script> "
      ],
      "text/plain": [
       "<IPython.core.display.HTML object>"
      ]
     },
     "metadata": {},
     "output_type": "display_data"
    },
    {
     "name": "stdout",
     "output_type": "stream",
     "text": [
      "Saving CNN_OutputFolder.zip to CNN_OutputFolder.zip\n",
      "✅ Extracted to: /content/extracted_data\n"
     ]
    }
   ],
   "source": [
    "from google.colab import files\n",
    "import zipfile\n",
    "import os\n",
    "\n",
    "# Step 1: Upload file (select a ZIP file manually)\n",
    "uploaded = files.upload()\n",
    "\n",
    "# Step 2: Get uploaded zip file path\n",
    "for filename in uploaded.keys():\n",
    "    zip_path = f\"/content/{filename}\"\n",
    "\n",
    "# Step 3: Check if it's a valid zip file\n",
    "if zip_path.endswith(\".zip\"):\n",
    "    with zipfile.ZipFile(zip_path, 'r') as zip_ref:\n",
    "        extract_dir = \"/content/extracted_data\"\n",
    "        zip_ref.extractall(extract_dir)\n",
    "        print(f\"✅ Extracted to: {extract_dir}\")\n",
    "else:\n",
    "    raise ValueError(\"❌ The uploaded file is not a .zip archive.\")\n",
    "\n",
    "\n"
   ]
  },
  {
   "cell_type": "code",
   "execution_count": 2,
   "metadata": {
    "colab": {
     "base_uri": "https://localhost:8080/"
    },
    "id": "dVZyX7_VAXji",
    "outputId": "de9b215d-ffd2-422d-834f-95ac8828ea9c"
   },
   "outputs": [
    {
     "name": "stdout",
     "output_type": "stream",
     "text": [
      "Found 8640 files belonging to 4 classes.\n",
      "Found 1080 files belonging to 4 classes.\n"
     ]
    }
   ],
   "source": [
    "#create data loaders\n",
    "#https://keras.io/api/data_loading/\n",
    "\n",
    "import tensorflow as tf\n",
    "from tensorflow import keras\n",
    "from keras import layers\n",
    "\n",
    "train_ds = keras.utils.image_dataset_from_directory(\n",
    "    directory='/content/extracted_data/CNN_OutputFolder/train',\n",
    "    labels='inferred',\n",
    "    label_mode='categorical',\n",
    "    batch_size=32,\n",
    "    image_size=(224, 224))\n",
    "validation_ds = keras.utils.image_dataset_from_directory(\n",
    "    directory='/content/extracted_data/CNN_OutputFolder/val',\n",
    "    labels='inferred',\n",
    "    label_mode='categorical',\n",
    "    batch_size=32,\n",
    "    image_size=(224, 224))\n",
    "\n",
    "\n",
    "class_names = train_ds.class_names\n",
    "num_classes = len(class_names)\n",
    "\n",
    "# Normalize images\n",
    "normalization_layer = layers.Rescaling(1./255)\n",
    "train_ds = train_ds.map(lambda x, y: (normalization_layer(x), y))\n",
    "validation_ds = validation_ds.map(lambda x, y: (normalization_layer(x), y))\n"
   ]
  },
  {
   "cell_type": "code",
   "execution_count": 3,
   "metadata": {
    "id": "1L57t-oDAXmu"
   },
   "outputs": [],
   "source": [
    "def build_model(base_model):\n",
    "    base_model.trainable = False  # Freeze the base model\n",
    "    model = keras.Sequential([\n",
    "        base_model,\n",
    "        layers.GlobalAveragePooling2D(),\n",
    "        layers.Dense(128, activation='relu'),\n",
    "        layers.Dropout(0.3),\n",
    "        layers.Dense(num_classes, activation='softmax')\n",
    "    ])\n",
    "    return model"
   ]
  },
  {
   "cell_type": "code",
   "execution_count": 4,
   "metadata": {
    "colab": {
     "base_uri": "https://localhost:8080/"
    },
    "id": "X20uLSDtA5Rc",
    "outputId": "c40cedd8-6180-4cb5-c119-a2163fff5072"
   },
   "outputs": [
    {
     "name": "stdout",
     "output_type": "stream",
     "text": [
      "Downloading data from https://storage.googleapis.com/tensorflow/keras-applications/vgg19/vgg19_weights_tf_dim_ordering_tf_kernels_notop.h5\n",
      "\u001b[1m80134624/80134624\u001b[0m \u001b[32m━━━━━━━━━━━━━━━━━━━━\u001b[0m\u001b[37m\u001b[0m \u001b[1m0s\u001b[0m 0us/step\n",
      "Downloading data from https://storage.googleapis.com/tensorflow/keras-applications/mobilenet_v3/weights_mobilenet_v3_small_224_1.0_float_no_top_v2.h5\n",
      "\u001b[1m4334752/4334752\u001b[0m \u001b[32m━━━━━━━━━━━━━━━━━━━━\u001b[0m\u001b[37m\u001b[0m \u001b[1m0s\u001b[0m 0us/step\n",
      "Downloading data from https://storage.googleapis.com/tensorflow/keras-applications/resnet/resnet50_weights_tf_dim_ordering_tf_kernels_notop.h5\n",
      "\u001b[1m94765736/94765736\u001b[0m \u001b[32m━━━━━━━━━━━━━━━━━━━━\u001b[0m\u001b[37m\u001b[0m \u001b[1m1s\u001b[0m 0us/step\n"
     ]
    }
   ],
   "source": [
    "from keras.applications import VGG19, MobileNetV3Small, ResNet50\n",
    "\n",
    "base_models = {\n",
    "    'VGG19': VGG19(weights='imagenet', include_top=False, input_shape=(224, 224, 3)),\n",
    "    'MobileNetV3Small': MobileNetV3Small(weights='imagenet', include_top=False, input_shape=(224, 224, 3)),\n",
    "    'ResNet50': ResNet50(weights='imagenet', include_top=False, input_shape=(224, 224, 3)),\n",
    "}\n"
   ]
  },
  {
   "cell_type": "code",
   "execution_count": 5,
   "metadata": {
    "colab": {
     "base_uri": "https://localhost:8080/"
    },
    "id": "Bw9P2aioA5UY",
    "outputId": "f1b93a78-8dbe-49d1-d777-8c3ff98c8f4e"
   },
   "outputs": [
    {
     "name": "stdout",
     "output_type": "stream",
     "text": [
      "\n",
      "Training VGG19...\n",
      "Epoch 1/20\n",
      "270/270 - 87s - 321ms/step - accuracy: 0.7554 - loss: 0.7208 - val_accuracy: 0.8861 - val_loss: 0.3689\n",
      "Epoch 2/20\n",
      "270/270 - 118s - 438ms/step - accuracy: 0.9005 - loss: 0.3115 - val_accuracy: 0.9296 - val_loss: 0.2218\n",
      "Epoch 3/20\n",
      "270/270 - 85s - 315ms/step - accuracy: 0.9324 - loss: 0.2135 - val_accuracy: 0.9491 - val_loss: 0.1505\n",
      "Epoch 4/20\n",
      "270/270 - 63s - 235ms/step - accuracy: 0.9487 - loss: 0.1640 - val_accuracy: 0.9667 - val_loss: 0.1124\n",
      "Epoch 5/20\n",
      "270/270 - 86s - 320ms/step - accuracy: 0.9559 - loss: 0.1358 - val_accuracy: 0.9398 - val_loss: 0.1597\n",
      "Epoch 6/20\n",
      "270/270 - 67s - 247ms/step - accuracy: 0.9603 - loss: 0.1189 - val_accuracy: 0.9657 - val_loss: 0.0932\n",
      "Epoch 7/20\n",
      "270/270 - 64s - 235ms/step - accuracy: 0.9666 - loss: 0.1062 - val_accuracy: 0.9676 - val_loss: 0.0791\n",
      "Epoch 8/20\n",
      "270/270 - 63s - 235ms/step - accuracy: 0.9700 - loss: 0.0893 - val_accuracy: 0.9694 - val_loss: 0.0794\n",
      "Epoch 9/20\n",
      "270/270 - 63s - 235ms/step - accuracy: 0.9690 - loss: 0.0877 - val_accuracy: 0.9685 - val_loss: 0.0878\n",
      "Epoch 10/20\n",
      "270/270 - 64s - 236ms/step - accuracy: 0.9721 - loss: 0.0805 - val_accuracy: 0.9574 - val_loss: 0.0964\n",
      "\n",
      "Training MobileNetV3Small...\n",
      "Epoch 1/20\n",
      "270/270 - 26s - 98ms/step - accuracy: 0.2700 - loss: 1.3868 - val_accuracy: 0.3231 - val_loss: 1.3727\n",
      "Epoch 2/20\n",
      "270/270 - 9s - 33ms/step - accuracy: 0.3277 - loss: 1.3611 - val_accuracy: 0.4306 - val_loss: 1.3365\n",
      "Epoch 3/20\n",
      "270/270 - 10s - 38ms/step - accuracy: 0.3747 - loss: 1.3310 - val_accuracy: 0.4676 - val_loss: 1.2906\n",
      "Epoch 4/20\n",
      "270/270 - 8s - 28ms/step - accuracy: 0.3995 - loss: 1.2812 - val_accuracy: 0.4917 - val_loss: 1.2354\n",
      "Epoch 5/20\n",
      "270/270 - 8s - 31ms/step - accuracy: 0.4396 - loss: 1.2294 - val_accuracy: 0.5093 - val_loss: 1.1813\n",
      "Epoch 6/20\n",
      "270/270 - 8s - 31ms/step - accuracy: 0.4586 - loss: 1.1963 - val_accuracy: 0.4972 - val_loss: 1.1505\n",
      "Epoch 7/20\n",
      "270/270 - 10s - 35ms/step - accuracy: 0.4714 - loss: 1.1609 - val_accuracy: 0.4963 - val_loss: 1.1369\n",
      "Epoch 8/20\n",
      "270/270 - 10s - 37ms/step - accuracy: 0.4742 - loss: 1.1437 - val_accuracy: 0.5269 - val_loss: 1.1073\n",
      "Epoch 9/20\n",
      "270/270 - 10s - 38ms/step - accuracy: 0.4822 - loss: 1.1321 - val_accuracy: 0.5093 - val_loss: 1.0862\n",
      "Epoch 10/20\n",
      "270/270 - 9s - 32ms/step - accuracy: 0.4917 - loss: 1.1175 - val_accuracy: 0.5315 - val_loss: 1.0855\n",
      "Epoch 11/20\n",
      "270/270 - 11s - 39ms/step - accuracy: 0.4943 - loss: 1.1121 - val_accuracy: 0.5028 - val_loss: 1.0838\n",
      "Epoch 12/20\n",
      "270/270 - 8s - 28ms/step - accuracy: 0.5076 - loss: 1.0969 - val_accuracy: 0.5213 - val_loss: 1.0606\n",
      "Epoch 13/20\n",
      "270/270 - 8s - 31ms/step - accuracy: 0.5051 - loss: 1.0930 - val_accuracy: 0.5602 - val_loss: 1.0509\n",
      "Epoch 14/20\n",
      "270/270 - 9s - 32ms/step - accuracy: 0.5150 - loss: 1.0856 - val_accuracy: 0.5565 - val_loss: 1.0464\n",
      "Epoch 15/20\n",
      "270/270 - 11s - 41ms/step - accuracy: 0.5171 - loss: 1.0855 - val_accuracy: 0.5463 - val_loss: 1.0432\n",
      "Epoch 16/20\n",
      "270/270 - 8s - 28ms/step - accuracy: 0.5285 - loss: 1.0697 - val_accuracy: 0.5704 - val_loss: 1.0373\n",
      "Epoch 17/20\n",
      "270/270 - 9s - 32ms/step - accuracy: 0.5177 - loss: 1.0753 - val_accuracy: 0.5361 - val_loss: 1.0314\n",
      "Epoch 18/20\n",
      "270/270 - 9s - 32ms/step - accuracy: 0.5279 - loss: 1.0644 - val_accuracy: 0.5278 - val_loss: 1.0173\n",
      "Epoch 19/20\n",
      "270/270 - 10s - 36ms/step - accuracy: 0.5317 - loss: 1.0596 - val_accuracy: 0.5944 - val_loss: 1.0112\n",
      "Epoch 20/20\n",
      "270/270 - 10s - 37ms/step - accuracy: 0.5402 - loss: 1.0551 - val_accuracy: 0.5898 - val_loss: 1.0206\n",
      "\n",
      "Training ResNet50...\n",
      "Epoch 1/20\n",
      "270/270 - 46s - 170ms/step - accuracy: 0.3244 - loss: 1.3659 - val_accuracy: 0.3926 - val_loss: 1.2835\n",
      "Epoch 2/20\n",
      "270/270 - 26s - 97ms/step - accuracy: 0.4150 - loss: 1.2453 - val_accuracy: 0.4694 - val_loss: 1.1724\n",
      "Epoch 3/20\n",
      "270/270 - 41s - 152ms/step - accuracy: 0.4554 - loss: 1.1774 - val_accuracy: 0.5287 - val_loss: 1.1108\n",
      "Epoch 4/20\n",
      "270/270 - 42s - 154ms/step - accuracy: 0.4877 - loss: 1.1273 - val_accuracy: 0.5361 - val_loss: 1.0594\n",
      "Epoch 5/20\n",
      "270/270 - 40s - 150ms/step - accuracy: 0.5161 - loss: 1.0948 - val_accuracy: 0.6009 - val_loss: 1.0387\n",
      "Epoch 6/20\n",
      "270/270 - 41s - 154ms/step - accuracy: 0.5157 - loss: 1.0813 - val_accuracy: 0.5769 - val_loss: 1.0134\n",
      "Epoch 7/20\n",
      "270/270 - 41s - 150ms/step - accuracy: 0.5479 - loss: 1.0322 - val_accuracy: 0.6148 - val_loss: 0.9475\n",
      "Epoch 8/20\n",
      "270/270 - 25s - 91ms/step - accuracy: 0.5648 - loss: 1.0158 - val_accuracy: 0.6583 - val_loss: 0.9160\n",
      "Epoch 9/20\n",
      "270/270 - 24s - 89ms/step - accuracy: 0.5898 - loss: 0.9781 - val_accuracy: 0.7083 - val_loss: 0.8638\n",
      "Epoch 10/20\n",
      "270/270 - 43s - 161ms/step - accuracy: 0.6102 - loss: 0.9465 - val_accuracy: 0.6731 - val_loss: 0.8588\n",
      "Epoch 11/20\n",
      "270/270 - 27s - 101ms/step - accuracy: 0.6162 - loss: 0.9158 - val_accuracy: 0.7509 - val_loss: 0.7853\n",
      "Epoch 12/20\n",
      "270/270 - 24s - 90ms/step - accuracy: 0.6279 - loss: 0.8915 - val_accuracy: 0.7398 - val_loss: 0.7545\n",
      "Epoch 13/20\n",
      "270/270 - 41s - 151ms/step - accuracy: 0.6383 - loss: 0.8761 - val_accuracy: 0.7565 - val_loss: 0.7310\n",
      "Epoch 14/20\n",
      "270/270 - 42s - 155ms/step - accuracy: 0.6481 - loss: 0.8538 - val_accuracy: 0.7324 - val_loss: 0.7185\n",
      "Epoch 15/20\n",
      "270/270 - 43s - 158ms/step - accuracy: 0.6818 - loss: 0.8048 - val_accuracy: 0.7926 - val_loss: 0.6504\n",
      "Epoch 16/20\n",
      "270/270 - 24s - 91ms/step - accuracy: 0.6889 - loss: 0.7863 - val_accuracy: 0.7806 - val_loss: 0.6352\n",
      "Epoch 17/20\n",
      "270/270 - 24s - 89ms/step - accuracy: 0.6898 - loss: 0.7800 - val_accuracy: 0.7861 - val_loss: 0.6413\n",
      "Epoch 18/20\n",
      "270/270 - 26s - 98ms/step - accuracy: 0.7010 - loss: 0.7591 - val_accuracy: 0.7787 - val_loss: 0.6604\n",
      "Epoch 19/20\n",
      "270/270 - 39s - 144ms/step - accuracy: 0.7110 - loss: 0.7366 - val_accuracy: 0.8278 - val_loss: 0.5482\n",
      "Epoch 20/20\n",
      "270/270 - 43s - 161ms/step - accuracy: 0.7135 - loss: 0.7230 - val_accuracy: 0.8083 - val_loss: 0.5611\n"
     ]
    }
   ],
   "source": [
    "results = {}\n",
    "\n",
    "for name, base in base_models.items():\n",
    "    print(f\"\\nTraining {name}...\")\n",
    "    model = build_model(base)\n",
    "\n",
    "    model.compile(optimizer='adam',\n",
    "                  loss='categorical_crossentropy',\n",
    "                  metrics=['accuracy'])\n",
    "\n",
    "    early_stop = keras.callbacks.EarlyStopping(monitor='val_loss', patience=3, restore_best_weights=True)\n",
    "\n",
    "    history = model.fit(train_ds,\n",
    "                        validation_data=validation_ds,\n",
    "                        epochs=20,\n",
    "                        callbacks=[early_stop],\n",
    "                        verbose=2)\n",
    "\n",
    "    model.save(f\"/content/{name}_FaceClassifier.keras\")\n",
    "\n",
    "    results[name] = history\n"
   ]
  },
  {
   "cell_type": "code",
   "execution_count": 6,
   "metadata": {
    "colab": {
     "base_uri": "https://localhost:8080/",
     "height": 472
    },
    "id": "jdyclbfYA5YA",
    "outputId": "061ce9aa-ed90-49ca-aafd-2ddcd3d0c625"
   },
   "outputs": [
    {
     "data": {
      "image/png": "[encoded data removed]",
      "text/plain": [
       "<Figure size 640x480 with 1 Axes>"
      ]
     },
     "metadata": {},
     "output_type": "display_data"
    }
   ],
   "source": [
    "import matplotlib.pyplot as plt\n",
    "\n",
    "def plot_history(histories):\n",
    "    for name, hist in histories.items():\n",
    "        plt.plot(hist.history['val_loss'], label=f'{name} val_loss')\n",
    "        plt.plot(hist.history['loss'], label=f'{name} train_loss')\n",
    "    plt.xlabel('Epochs')\n",
    "    plt.ylabel('Loss')\n",
    "    plt.title('Train vs Val Loss')\n",
    "    plt.legend()\n",
    "    plt.grid()\n",
    "    plt.show()\n",
    "\n",
    "plot_history(results)\n"
   ]
  }
 ],
 "metadata": {
  "accelerator": "GPU",
  "colab": {
   "gpuType": "T4",
   "provenance": []
  },
  "kernelspec": {
   "display_name": "Python 3 (ipykernel)",
   "language": "python",
   "name": "python3"
  },
  "language_info": {
   "codemirror_mode": {
    "name": "ipython",
    "version": 3
   },
   "file_extension": ".py",
   "mimetype": "text/x-python",
   "name": "python",
   "nbconvert_exporter": "python",
   "pygments_lexer": "ipython3",
   "version": "3.11.13"
  }
 },
 "nbformat": 4,
 "nbformat_minor": 4
}
